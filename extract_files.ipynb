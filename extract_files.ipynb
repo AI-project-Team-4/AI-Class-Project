{
 "cells": [
  {
   "cell_type": "markdown",
   "id": "7c855586",
   "metadata": {},
   "source": [
    "- Authors: William Wiemann, Tyler Carr, Benjamin Ranew\n",
    "- Project title: Mercari Price Prediction Project\n",
    "- File description: This file uses py7zr to extract the .7z (7-Zip) files of training and testing data that came with the project so that we can use them. The data is too large to be stored in GitHub unzipped."
   ]
  },
  {
   "cell_type": "code",
   "execution_count": 1,
   "id": "2fbbc2ba",
   "metadata": {},
   "outputs": [],
   "source": [
    "import pandas as pd\n",
    "import py7zr"
   ]
  },
  {
   "cell_type": "code",
   "execution_count": 13,
   "id": "49a90e11",
   "metadata": {},
   "outputs": [],
   "source": [
    "# Extract tsv files\n",
    "with py7zr.SevenZipFile('data/train.tsv.7z', mode='r') as z:\n",
    "    z.extract(path=\"data\")\n",
    "with py7zr.SevenZipFile('data/test.tsv.7z', mode='r') as z:\n",
    "    z.extract(path=\"data\")"
   ]
  },
  {
   "cell_type": "code",
   "execution_count": 3,
   "id": "32593625",
   "metadata": {},
   "outputs": [],
   "source": [
    "train_df = pd.read_csv(\"data/train.tsv\", sep='\\t')\n",
    "test_df = pd.read_csv(\"data/test.tsv\", sep='\\t')"
   ]
  },
  {
   "cell_type": "code",
   "execution_count": null,
   "id": "b883f2e7",
   "metadata": {},
   "outputs": [],
   "source": []
  }
 ],
 "metadata": {
  "kernelspec": {
   "display_name": "Python 3",
   "language": "python",
   "name": "python3"
  },
  "language_info": {
   "codemirror_mode": {
    "name": "ipython",
    "version": 3
   },
   "file_extension": ".py",
   "mimetype": "text/x-python",
   "name": "python",
   "nbconvert_exporter": "python",
   "pygments_lexer": "ipython3",
   "version": "3.10.2"
  }
 },
 "nbformat": 4,
 "nbformat_minor": 5
}
