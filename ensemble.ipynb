{
 "cells": [
  {
   "cell_type": "code",
   "execution_count": 2,
   "metadata": {},
   "outputs": [],
   "source": [
    "from get_sample import get_sample\n",
    "from get_tfidf_df import get_tfidf_df\n",
    "from get_category_df import get_category_df\n",
    "from get_merged_df import merge_df\n",
    "from plot_learning_curve import plot_learning_curve\n",
    "from sklearn.neighbors import KNeighborsRegressor\n",
    "from sklearn.metrics import r2_score\n",
    "import pandas as pd"
   ]
  },
  {
   "cell_type": "code",
   "execution_count": 3,
   "metadata": {},
   "outputs": [],
   "source": [
    "X_train, X_test, y_train, y_test = get_sample(cutoff=10000, test_size=0.33)"
   ]
  },
  {
   "cell_type": "code",
   "execution_count": 15,
   "metadata": {},
   "outputs": [
    {
     "name": "stderr",
     "output_type": "stream",
     "text": [
      "100%|██████████| 6700/6700 [01:29<00:00, 75.16it/s] \n",
      "100%|██████████| 3300/3300 [00:42<00:00, 78.43it/s] \n"
     ]
    }
   ],
   "source": [
    "train_tfidf_df, test_tfidf_df = get_tfidf_df(X_train, X_test, min_df=3, max_df=0.1)\n",
    "\n",
    "# train_tfidf_df, test_tfidf_df = get_tfidf_df(X_train, X_test, min_df=1, max_df=1.0)"
   ]
  },
  {
   "cell_type": "code",
   "execution_count": 16,
   "metadata": {},
   "outputs": [
    {
     "name": "stderr",
     "output_type": "stream",
     "text": [
      "/Users/Tyler/Documents/projects/AI-Class-Project/get_category_df.py:8: SettingWithCopyWarning: \n",
      "A value is trying to be set on a copy of a slice from a DataFrame.\n",
      "Try using .loc[row_indexer,col_indexer] = value instead\n",
      "\n",
      "See the caveats in the documentation: https://pandas.pydata.org/pandas-docs/stable/user_guide/indexing.html#returning-a-view-versus-a-copy\n",
      "  train_set['category_name'] = train_set[['category_name']].apply(le.fit_transform)\n",
      "/Users/Tyler/Documents/projects/AI-Class-Project/get_category_df.py:9: SettingWithCopyWarning: \n",
      "A value is trying to be set on a copy of a slice from a DataFrame.\n",
      "Try using .loc[row_indexer,col_indexer] = value instead\n",
      "\n",
      "See the caveats in the documentation: https://pandas.pydata.org/pandas-docs/stable/user_guide/indexing.html#returning-a-view-versus-a-copy\n",
      "  train_set['brand_name'] = train_set[['brand_name']].apply(le.fit_transform)\n",
      "/Users/Tyler/Documents/projects/AI-Class-Project/get_category_df.py:11: SettingWithCopyWarning: \n",
      "A value is trying to be set on a copy of a slice from a DataFrame.\n",
      "Try using .loc[row_indexer,col_indexer] = value instead\n",
      "\n",
      "See the caveats in the documentation: https://pandas.pydata.org/pandas-docs/stable/user_guide/indexing.html#returning-a-view-versus-a-copy\n",
      "  testing_set['category_name'] = testing_set[['category_name']].apply(le.fit_transform)\n",
      "/Users/Tyler/Documents/projects/AI-Class-Project/get_category_df.py:12: SettingWithCopyWarning: \n",
      "A value is trying to be set on a copy of a slice from a DataFrame.\n",
      "Try using .loc[row_indexer,col_indexer] = value instead\n",
      "\n",
      "See the caveats in the documentation: https://pandas.pydata.org/pandas-docs/stable/user_guide/indexing.html#returning-a-view-versus-a-copy\n",
      "  testing_set['brand_name'] = testing_set[['brand_name']].apply(le.fit_transform)\n"
     ]
    }
   ],
   "source": [
    "train_category_df, test_category_df = get_category_df(X_train, X_test)"
   ]
  },
  {
   "cell_type": "code",
   "execution_count": 6,
   "metadata": {},
   "outputs": [],
   "source": [
    "# Merge dfs together\n",
    "x_train_merged = merge_df(train_tfidf_df, train_category_df)\n",
    "x_test_merged = merge_df(test_tfidf_df, test_category_df)"
   ]
  },
  {
   "cell_type": "code",
   "execution_count": 7,
   "metadata": {},
   "outputs": [
    {
     "data": {
      "text/plain": [
       "KNeighborsRegressor(n_neighbors=10)"
      ]
     },
     "execution_count": 7,
     "metadata": {},
     "output_type": "execute_result"
    }
   ],
   "source": [
    "\n",
    "# Train\n",
    "knn = KNeighborsRegressor(n_neighbors=10)\n",
    "knn.fit(x_train_merged, y_train)"
   ]
  },
  {
   "cell_type": "code",
   "execution_count": 8,
   "metadata": {},
   "outputs": [],
   "source": [
    "\n",
    "# Predict\n",
    "predictions = knn.predict(x_test_merged)"
   ]
  },
  {
   "cell_type": "code",
   "execution_count": 9,
   "metadata": {},
   "outputs": [],
   "source": [
    "prediction_comparisons = pd.DataFrame({\"item name\": X_test['name'], 'desc': X_test['item_description'], \"actual price\": y_test, \"predicted price\": predictions})"
   ]
  },
  {
   "cell_type": "code",
   "execution_count": 10,
   "metadata": {},
   "outputs": [
    {
     "data": {
      "text/html": [
       "<div>\n",
       "<style scoped>\n",
       "    .dataframe tbody tr th:only-of-type {\n",
       "        vertical-align: middle;\n",
       "    }\n",
       "\n",
       "    .dataframe tbody tr th {\n",
       "        vertical-align: top;\n",
       "    }\n",
       "\n",
       "    .dataframe thead th {\n",
       "        text-align: right;\n",
       "    }\n",
       "</style>\n",
       "<table border=\"1\" class=\"dataframe\">\n",
       "  <thead>\n",
       "    <tr style=\"text-align: right;\">\n",
       "      <th></th>\n",
       "      <th>item name</th>\n",
       "      <th>desc</th>\n",
       "      <th>actual price</th>\n",
       "      <th>predicted price</th>\n",
       "    </tr>\n",
       "  </thead>\n",
       "  <tbody>\n",
       "    <tr>\n",
       "      <th>6252</th>\n",
       "      <td>N64 super mario 64 (label stain)</td>\n",
       "      <td>Great item great price shipped securely Free s...</td>\n",
       "      <td>21.0</td>\n",
       "      <td>15.2</td>\n",
       "    </tr>\n",
       "    <tr>\n",
       "      <th>4684</th>\n",
       "      <td>Jordan 9c Retro Gamma 11s</td>\n",
       "      <td>Size 9c Gamma gamma retro 11s. Used but no abs...</td>\n",
       "      <td>29.0</td>\n",
       "      <td>32.8</td>\n",
       "    </tr>\n",
       "    <tr>\n",
       "      <th>1731</th>\n",
       "      <td>5 Pair of Lashes + Lash Tweezers</td>\n",
       "      <td>Perfect for the False Eyelash Beginner! ⭐️This...</td>\n",
       "      <td>7.0</td>\n",
       "      <td>10.7</td>\n",
       "    </tr>\n",
       "    <tr>\n",
       "      <th>4742</th>\n",
       "      <td>Bundle for LizKay</td>\n",
       "      <td>GB Girls size 10. Fits like size 8. Great used...</td>\n",
       "      <td>40.0</td>\n",
       "      <td>29.5</td>\n",
       "    </tr>\n",
       "    <tr>\n",
       "      <th>4521</th>\n",
       "      <td>New Balance Minimus size 8 - women</td>\n",
       "      <td>Good used condition. Very comfy shoe ladies sh...</td>\n",
       "      <td>16.0</td>\n",
       "      <td>36.0</td>\n",
       "    </tr>\n",
       "    <tr>\n",
       "      <th>...</th>\n",
       "      <td>...</td>\n",
       "      <td>...</td>\n",
       "      <td>...</td>\n",
       "      <td>...</td>\n",
       "    </tr>\n",
       "    <tr>\n",
       "      <th>1744</th>\n",
       "      <td>NWT VS PINK FLAT LEGGING BLING</td>\n",
       "      <td>Brand new with tags VS PINK FLAT LEGGING WITH ...</td>\n",
       "      <td>54.0</td>\n",
       "      <td>23.8</td>\n",
       "    </tr>\n",
       "    <tr>\n",
       "      <th>9754</th>\n",
       "      <td>Adidas Ortholite Girls 7c</td>\n",
       "      <td>Adidas Ortholite Girls 7 toddler.</td>\n",
       "      <td>16.0</td>\n",
       "      <td>19.0</td>\n",
       "    </tr>\n",
       "    <tr>\n",
       "      <th>6094</th>\n",
       "      <td>NWT Victoria's Secret plunge bra</td>\n",
       "      <td>NWT Victoria's Secret lightly lined plunge bra...</td>\n",
       "      <td>25.0</td>\n",
       "      <td>28.6</td>\n",
       "    </tr>\n",
       "    <tr>\n",
       "      <th>8781</th>\n",
       "      <td>Lularoe 2xl Carly blue</td>\n",
       "      <td>Bnwt Make sure you check out my other listings...</td>\n",
       "      <td>40.0</td>\n",
       "      <td>57.6</td>\n",
       "    </tr>\n",
       "    <tr>\n",
       "      <th>9401</th>\n",
       "      <td>Dungeons &amp; Dragons Book</td>\n",
       "      <td>Never used. D&amp;D \"Dungeon Master's Guide\"</td>\n",
       "      <td>28.0</td>\n",
       "      <td>42.9</td>\n",
       "    </tr>\n",
       "  </tbody>\n",
       "</table>\n",
       "<p>3300 rows × 4 columns</p>\n",
       "</div>"
      ],
      "text/plain": [
       "                               item name  \\\n",
       "6252    N64 super mario 64 (label stain)   \n",
       "4684           Jordan 9c Retro Gamma 11s   \n",
       "1731    5 Pair of Lashes + Lash Tweezers   \n",
       "4742                   Bundle for LizKay   \n",
       "4521  New Balance Minimus size 8 - women   \n",
       "...                                  ...   \n",
       "1744      NWT VS PINK FLAT LEGGING BLING   \n",
       "9754           Adidas Ortholite Girls 7c   \n",
       "6094    NWT Victoria's Secret plunge bra   \n",
       "8781              Lularoe 2xl Carly blue   \n",
       "9401             Dungeons & Dragons Book   \n",
       "\n",
       "                                                   desc  actual price  \\\n",
       "6252  Great item great price shipped securely Free s...          21.0   \n",
       "4684  Size 9c Gamma gamma retro 11s. Used but no abs...          29.0   \n",
       "1731  Perfect for the False Eyelash Beginner! ⭐️This...           7.0   \n",
       "4742  GB Girls size 10. Fits like size 8. Great used...          40.0   \n",
       "4521  Good used condition. Very comfy shoe ladies sh...          16.0   \n",
       "...                                                 ...           ...   \n",
       "1744  Brand new with tags VS PINK FLAT LEGGING WITH ...          54.0   \n",
       "9754                  Adidas Ortholite Girls 7 toddler.          16.0   \n",
       "6094  NWT Victoria's Secret lightly lined plunge bra...          25.0   \n",
       "8781  Bnwt Make sure you check out my other listings...          40.0   \n",
       "9401           Never used. D&D \"Dungeon Master's Guide\"          28.0   \n",
       "\n",
       "      predicted price 2  \n",
       "6252               15.2  \n",
       "4684               32.8  \n",
       "1731               10.7  \n",
       "4742               29.5  \n",
       "4521               36.0  \n",
       "...                 ...  \n",
       "1744               23.8  \n",
       "9754               19.0  \n",
       "6094               28.6  \n",
       "8781               57.6  \n",
       "9401               42.9  \n",
       "\n",
       "[3300 rows x 4 columns]"
      ]
     },
     "execution_count": 27,
     "metadata": {},
     "output_type": "execute_result"
    }
   ],
   "source": [
    "prediction_comparisons"
   ]
  },
  {
   "cell_type": "code",
   "execution_count": 28,
   "metadata": {},
   "outputs": [],
   "source": [
    "import pickle\n",
    "with open(\"new.pkl\", \"wb\") as f:\n",
    "    pickle.dump(prediction_comparisons, f)"
   ]
  },
  {
   "cell_type": "code",
   "execution_count": 24,
   "metadata": {},
   "outputs": [],
   "source": [
    "r2_score(y_test, predictions)"
   ]
  },
  {
   "cell_type": "code",
   "execution_count": 25,
   "metadata": {},
   "outputs": [],
   "source": [
    "plot_learning_curve(knn, x_train_merged, y_train, step=50)"
   ]
  },
  {
   "cell_type": "code",
   "execution_count": null,
   "metadata": {},
   "outputs": [],
   "source": []
  }
 ],
 "metadata": {
  "interpreter": {
   "hash": "fc66f1092b5a5749427aab9f2c8f2f576c4860b60df92ca7cfe9b55cc903698f"
  },
  "kernelspec": {
   "display_name": "Python 3.10.2 64-bit",
   "language": "python",
   "name": "python3"
  },
  "language_info": {
   "codemirror_mode": {
    "name": "ipython",
    "version": 3
   },
   "file_extension": ".py",
   "mimetype": "text/x-python",
   "name": "python",
   "nbconvert_exporter": "python",
   "pygments_lexer": "ipython3",
   "version": "3.10.2"
  },
  "orig_nbformat": 4
 },
 "nbformat": 4,
 "nbformat_minor": 2
}
