{
 "cells": [
  {
   "cell_type": "markdown",
   "metadata": {},
   "source": [
    "- Authors: William Wiemann, Tyler Carr, Benjamin Ranew\n",
    "- Project title: Mercari Price Prediction Project\n",
    "- File description: This is the main file that creates the model, runs the model, and gets predictions. It starts out by using [get_sample.py](get_sample.py) to get a consistent data sample of training and testing data. Then, using transformers, it creates two different pipelines, both using KNN as the model. One pipeline is created for text data, and another for categorical data. The two models are ensembled together using VotingRegressor. After the model is run, price predictions put next to the actual prices."
   ]
  },
  {
   "cell_type": "code",
   "execution_count": 3,
   "metadata": {},
   "outputs": [],
   "source": [
    "from sklearn.compose import ColumnTransformer\n",
    "from sklearn.preprocessing import OneHotEncoder\n",
    "from sklearn.pipeline import Pipeline\n",
    "from sklearn.feature_extraction.text import TfidfVectorizer\n",
    "from sklearn.preprocessing import FunctionTransformer\n",
    "from get_sample import get_sample\n",
    "from get_tfidf_df import apply_normalize\n",
    "from sklearn.neighbors import KNeighborsRegressor\n",
    "import pandas as pd\n",
    "from sklearn.ensemble import VotingRegressor\n",
    "import numpy as np\n",
    "import matplotlib.pyplot as plt"
   ]
  },
  {
   "cell_type": "code",
   "execution_count": 4,
   "metadata": {},
   "outputs": [],
   "source": [
    "# Install Spacy's en_core_web_sm, which is used in get_tfidf_df.py file.\n",
    "# Note: Might need to change python to python3 in command \n",
    "!python -m spacy download en_core_web_sm"
   ]
  },
  {
   "cell_type": "code",
   "execution_count": 5,
   "metadata": {},
   "outputs": [],
   "source": [
    "# Get train and test data\n",
    "X_train, X_test, y_train, y_test = get_sample(cutoff=50000, test_size=0.33)"
   ]
  },
  {
   "cell_type": "code",
   "execution_count": 6,
   "metadata": {},
   "outputs": [],
   "source": [
    "# Turn category names into numbers for the machine learning model to use\n",
    "category_cols = ['item_condition_id', 'category_name', 'brand_name']\n",
    "\n",
    "category_transformer =  ColumnTransformer([\n",
    "    ('preprocessing', OneHotEncoder(handle_unknown='ignore'), category_cols),\n",
    "])"
   ]
  },
  {
   "cell_type": "code",
   "execution_count": 7,
   "metadata": {},
   "outputs": [],
   "source": [
    "# Pipeline for categorical data: Preprocessing and model \n",
    "category_model = Pipeline([\n",
    "    ('preprocessing', category_transformer),\n",
    "    ('model', KNeighborsRegressor(n_neighbors=10))\n",
    "])"
   ]
  },
  {
   "cell_type": "code",
   "execution_count": 8,
   "metadata": {},
   "outputs": [],
   "source": [
    "# Transform the combined title + description column using Tfidf vectorizer\n",
    "# Set sparse_threshold=0 to set the transformer to always return a dense array\n",
    "# Credit: https://stackoverflow.com/a/65298286/3675086\n",
    "tfidf_vectorizer = TfidfVectorizer(analyzer='word', stop_words='english')\n",
    "\n",
    "tfidf_transformer =  ColumnTransformer([\n",
    "    ('tfidf', tfidf_vectorizer, 'combined_desc')\n",
    "], sparse_threshold=0)"
   ]
  },
  {
   "cell_type": "code",
   "execution_count": 9,
   "metadata": {},
   "outputs": [],
   "source": [
    "# Set up pipeline for making predictions based on text data. First normalize, then run the tfidf column transformer that was created, then run the model\n",
    "tfidf_model = Pipeline([\n",
    "    ('normalize', FunctionTransformer(apply_normalize)),\n",
    "    ('tfidf', tfidf_transformer),\n",
    "    ('model', KNeighborsRegressor(n_neighbors=10))\n",
    "])"
   ]
  },
  {
   "cell_type": "code",
   "execution_count": 10,
   "metadata": {},
   "outputs": [],
   "source": [
    "# Run the voting regressor on both category and text data to pick the best prediction out of the two methods \n",
    "combined_model = VotingRegressor(estimators=[\n",
    "    ('category_model', category_model),\n",
    "    ('tfidf_model', tfidf_model)\n",
    "])"
   ]
  },
  {
   "cell_type": "code",
   "execution_count": 11,
   "metadata": {},
   "outputs": [],
   "source": [
    "X_train['item_description'] = X_train['item_description'].replace({np.nan: ''})"
   ]
  },
  {
   "cell_type": "code",
   "execution_count": 12,
   "metadata": {},
   "outputs": [],
   "source": [
    "# Combine the name and item description columns into one column called combined_desc for both training and testing data\n",
    "X_train['combined_desc'] = X_train[['name', 'item_description']].agg(' '.join, axis=1)\n",
    "\n",
    "X_test['combined_desc'] = X_test[['name', 'item_description']].agg(' '.join, axis=1)"
   ]
  },
  {
   "cell_type": "code",
   "execution_count": 11,
   "metadata": {},
   "outputs": [
    {
     "name": "stderr",
     "output_type": "stream",
     "text": [
      "100%|██████████| 33500/33500 [03:18<00:00, 168.71it/s]\n"
     ]
    },
    {
     "data": {
      "text/plain": [
       "VotingRegressor(estimators=[('category_model',\n",
       "                             Pipeline(steps=[('preprocessing',\n",
       "                                              ColumnTransformer(transformers=[('preprocessing',\n",
       "                                                                               OneHotEncoder(handle_unknown='ignore'),\n",
       "                                                                               ['item_condition_id',\n",
       "                                                                                'category_name',\n",
       "                                                                                'brand_name'])])),\n",
       "                                             ('model',\n",
       "                                              KNeighborsRegressor(n_neighbors=10))])),\n",
       "                            ('tfidf_model',\n",
       "                             Pipeline(steps=[('normalize',\n",
       "                                              FunctionTransformer(func=<function apply_normalize at 0x0000019E53D94700>)),\n",
       "                                             ('tfidf',\n",
       "                                              ColumnTransformer(sparse_threshold=0,\n",
       "                                                                transformers=[('tfidf',\n",
       "                                                                               TfidfVectorizer(stop_words='english'),\n",
       "                                                                               'combined_desc')])),\n",
       "                                             ('model',\n",
       "                                              KNeighborsRegressor(n_neighbors=10))]))])"
      ]
     },
     "execution_count": 11,
     "metadata": {},
     "output_type": "execute_result"
    }
   ],
   "source": [
    "# Train the model\n",
    "combined_model.fit(X_train, y_train)"
   ]
  },
  {
   "cell_type": "code",
   "execution_count": 12,
   "metadata": {},
   "outputs": [
    {
     "name": "stderr",
     "output_type": "stream",
     "text": [
      "100%|██████████| 16500/16500 [01:36<00:00, 170.31it/s]\n"
     ]
    }
   ],
   "source": [
    "# Make predictions based on the model\n",
    "predictions = combined_model.predict(X_test)"
   ]
  },
  {
   "cell_type": "code",
   "execution_count": 17,
   "metadata": {},
   "outputs": [],
   "source": [
    "# Display results of actual price vs predicted price\n",
    "df = pd.DataFrame({\"item name\": X_test['name'], 'desc': X_test['item_description'], \"actual price\": y_test, \"pred price\": predictions})"
   ]
  },
  {
   "cell_type": "code",
   "execution_count": null,
   "metadata": {},
   "outputs": [
    {
     "name": "stderr",
     "output_type": "stream",
     "text": [
      "100%|██████████| 5000/5000 [00:28<00:00, 172.94it/s]\n",
      "100%|██████████| 16500/16500 [01:34<00:00, 175.10it/s]\n"
     ]
    },
    {
     "name": "stdout",
     "output_type": "stream",
     "text": [
      "7342 / 16500\n",
      "0.44496969696969696\n"
     ]
    },
    {
     "name": "stderr",
     "output_type": "stream",
     "text": [
      "100%|██████████| 10000/10000 [00:57<00:00, 174.71it/s]\n",
      "100%|██████████| 16500/16500 [01:35<00:00, 171.96it/s]\n"
     ]
    },
    {
     "name": "stdout",
     "output_type": "stream",
     "text": [
      "7996 / 16500\n",
      "0.4846060606060606\n"
     ]
    },
    {
     "name": "stderr",
     "output_type": "stream",
     "text": [
      "100%|██████████| 15000/15000 [01:26<00:00, 174.33it/s]\n",
      "100%|██████████| 16500/16500 [01:35<00:00, 172.63it/s]\n"
     ]
    },
    {
     "name": "stdout",
     "output_type": "stream",
     "text": [
      "8629 / 16500\n",
      "0.522969696969697\n"
     ]
    },
    {
     "name": "stderr",
     "output_type": "stream",
     "text": [
      "100%|██████████| 20000/20000 [01:54<00:00, 174.22it/s]\n",
      "100%|██████████| 16500/16500 [01:36<00:00, 171.37it/s]\n"
     ]
    },
    {
     "name": "stdout",
     "output_type": "stream",
     "text": [
      "8702 / 16500\n",
      "0.5273939393939394\n"
     ]
    },
    {
     "name": "stderr",
     "output_type": "stream",
     "text": [
      "100%|██████████| 25000/25000 [02:25<00:00, 171.40it/s]\n",
      "100%|██████████| 16500/16500 [01:36<00:00, 171.51it/s]\n"
     ]
    },
    {
     "name": "stdout",
     "output_type": "stream",
     "text": [
      "8839 / 16500\n",
      "0.5356969696969697\n"
     ]
    },
    {
     "name": "stderr",
     "output_type": "stream",
     "text": [
      "100%|██████████| 30000/30000 [02:58<00:00, 167.78it/s]\n",
      "100%|██████████| 16500/16500 [01:36<00:00, 171.41it/s]\n"
     ]
    },
    {
     "name": "stdout",
     "output_type": "stream",
     "text": [
      "8860 / 16500\n",
      "0.536969696969697\n"
     ]
    }
   ],
   "source": [
    "# Generate accuracy score for different subsets of training data (starting at 5k and going up 5k until reach max)\n",
    "accuracies = []\n",
    "training_sizes = np.arange(5000, len(X_train), 5000)\n",
    "\n",
    "for size in training_sizes:\n",
    "    combined_model.fit(X_train[:size], y_train[:size])\n",
    "    predictions = combined_model.predict(X_test)\n",
    "\n",
    "    within_count = sum([abs(pred - y_test.iloc[i]) <= 8 for i, pred in enumerate(predictions)]) # Calculate number of predictions within $8.00 of the actual price\n",
    "\n",
    "    accuracy = within_count / len(y_test)\n",
    "    print(f\"Accuracy for training size {size}: {accuracy}\")\n",
    "\n",
    "    accuracies.append(accuracy)"
   ]
  },
  {
   "cell_type": "code",
   "execution_count": null,
   "metadata": {},
   "outputs": [
    {
     "data": {
      "image/png": "[encoded data removed]",
      "text/plain": [
       "<Figure size 432x288 with 1 Axes>"
      ]
     },
     "metadata": {},
     "output_type": "display_data"
    }
   ],
   "source": [
    "# Plot accuracy vs each of the training subsets generated in the cell above\n",
    "fig,ax = plt.subplots(1)\n",
    "ax.plot(training_sizes, accuracies)\n",
    "ax.scatter(training_sizes, accuracies)\n",
    "plt.xlabel(\"Training Data Amount\")\n",
    "plt.ylabel(\"Price Prediction Within $8\")\n",
    "plt.savefig('graph.png')"
   ]
  }
 ],
 "metadata": {
  "interpreter": {
   "hash": "fc66f1092b5a5749427aab9f2c8f2f576c4860b60df92ca7cfe9b55cc903698f"
  },
  "kernelspec": {
   "display_name": "Python 3.10.2 64-bit",
   "language": "python",
   "name": "python3"
  },
  "language_info": {
   "codemirror_mode": {
    "name": "ipython",
    "version": 3
   },
   "file_extension": ".py",
   "mimetype": "text/x-python",
   "name": "python",
   "nbconvert_exporter": "python",
   "pygments_lexer": "ipython3",
   "version": "3.10.2"
  },
  "orig_nbformat": 4
 },
 "nbformat": 4,
 "nbformat_minor": 2
}
