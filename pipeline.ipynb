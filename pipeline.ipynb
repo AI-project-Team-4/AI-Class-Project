{
 "cells": [
  {
   "cell_type": "code",
   "execution_count": null,
   "metadata": {},
   "outputs": [],
   "source": [
    "from sklearn.compose import ColumnTransformer\n",
    "from sklearn.preprocessing import OneHotEncoder\n",
    "from sklearn.pipeline import Pipeline\n",
    "from sklearn.feature_extraction.text import TfidfVectorizer\n",
    "from sklearn.preprocessing import FunctionTransformer\n",
    "from get_sample import get_sample\n",
    "from get_tfidf_df import apply_normalize\n",
    "from sklearn.neighbors import KNeighborsRegressor\n",
    "import pandas as pd\n",
    "from sklearn.ensemble import VotingRegressor"
   ]
  },
  {
   "cell_type": "code",
   "execution_count": null,
   "metadata": {},
   "outputs": [],
   "source": [
    "X_train, X_test, y_train, y_test = get_sample(cutoff=100, test_size=0.33)"
   ]
  },
  {
   "cell_type": "code",
   "execution_count": null,
   "metadata": {},
   "outputs": [],
   "source": [
    "# Turn category names into numbers for ML model\n",
    "category_cols = ['item_condition_id', 'category_name', 'brand_name']\n",
    "\n",
    "category_transformer =  ColumnTransformer([\n",
    "    ('preprocessing', OneHotEncoder(handle_unknown='ignore'), category_cols),\n",
    "])"
   ]
  },
  {
   "cell_type": "code",
   "execution_count": null,
   "metadata": {},
   "outputs": [],
   "source": [
    "category_model = Pipeline([\n",
    "    ('preprocessing', category_transformer),\n",
    "    ('model', KNeighborsRegressor(n_neighbors=10))\n",
    "])"
   ]
  },
  {
   "cell_type": "code",
   "execution_count": null,
   "metadata": {},
   "outputs": [],
   "source": [
    "# https://stackoverflow.com/a/65298286/3675086\n",
    "tfidf_vectorizer = TfidfVectorizer(analyzer='word', stop_words='english')\n",
    "\n",
    "tfidf_transformer =  ColumnTransformer([\n",
    "    ('tfidf', tfidf_vectorizer, 'item_description')\n",
    "], sparse_threshold=0)"
   ]
  },
  {
   "cell_type": "code",
   "execution_count": null,
   "metadata": {},
   "outputs": [],
   "source": [
    "tfidf_model = Pipeline([\n",
    "    ('normalize', FunctionTransformer(apply_normalize)),\n",
    "    ('tfidf', tfidf_transformer),\n",
    "    ('model', KNeighborsRegressor(n_neighbors=10))\n",
    "])"
   ]
  },
  {
   "cell_type": "code",
   "execution_count": null,
   "metadata": {},
   "outputs": [],
   "source": [
    "combined_model = VotingRegressor(estimators=[\n",
    "    ('category_model', category_model),\n",
    "    ('tfidf_model', tfidf_model)\n",
    "])"
   ]
  },
  {
   "cell_type": "code",
   "execution_count": null,
   "metadata": {},
   "outputs": [],
   "source": [
    "combined_model.fit(X_train, y_train)"
   ]
  },
  {
   "cell_type": "code",
   "execution_count": null,
   "metadata": {},
   "outputs": [],
   "source": [
    "predictions = combined_model.predict(X_test)"
   ]
  },
  {
   "cell_type": "code",
   "execution_count": null,
   "metadata": {},
   "outputs": [],
   "source": [
    "pd.DataFrame({\"item name\": X_test['name'], 'desc': X_test['item_description'], \"actual price\": y_test, \"pred price\": predictions}).tail(50)"
   ]
  }
 ],
 "metadata": {
  "interpreter": {
   "hash": "fc66f1092b5a5749427aab9f2c8f2f576c4860b60df92ca7cfe9b55cc903698f"
  },
  "kernelspec": {
   "display_name": "Python 3.10.2 64-bit",
   "language": "python",
   "name": "python3"
  },
  "language_info": {
   "codemirror_mode": {
    "name": "ipython",
    "version": 3
   },
   "file_extension": ".py",
   "mimetype": "text/x-python",
   "name": "python",
   "nbconvert_exporter": "python",
   "pygments_lexer": "ipython3",
   "version": "3.9.5"
  },
  "orig_nbformat": 4
 },
 "nbformat": 4,
 "nbformat_minor": 2
}
